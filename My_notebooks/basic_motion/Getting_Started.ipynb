{
 "cells": [
  {
   "cell_type": "markdown",
   "id": "filled-duration",
   "metadata": {},
   "source": [
    "# Getting Started"
   ]
  },
  {
   "cell_type": "markdown",
   "id": "rotary-annual",
   "metadata": {},
   "source": [
    "## Start the docker container on Jetson\n",
    "\n",
    "1. Execute \"code .\" in a wsl shell and remote connect to jetson\n",
    "2. Open a terminal on the jetson from with VS Code and \"source enable.sh\" from within the docker directory\n",
    "    check that a container with image geoc1234/jetbot:jupyter-0.4.2-32.4.4.4 is running"
   ]
  },
  {
   "cell_type": "markdown",
   "id": "beautiful-israel",
   "metadata": {},
   "source": [
    "## Start ROSCORE & Other Needed ROS Nodes, etc\n",
    "\n",
    "1. ssh into jetson from MSI or open another terminal window in VS Code and execute: sudo docker exec -it jetbot_jupyter bash\n",
    "   that will open a linux shell inside the container.\n",
    "   Use ipconfig to find the IP address of Jetbot and export it as shown below\n",
    "   -  export ROS_MASTER_URI=http://10.0.0.66:11311\n",
    "   -  export ROS_IP=10.0.0.66\n",
    "2. execute 'roscore'\n",
    "3. Repeat (1) and 'roslaunch' bones_move ard.launch\n",
    "4. Repeat (1) and 'roslaunch' bones_move bones.launch\n",
    "5. Repeat (1) and 'roslaunch' robot_localization ekf_template.launch"
   ]
  },
  {
   "cell_type": "markdown",
   "id": "included-cement",
   "metadata": {},
   "source": [
    "### the following code is needed to initialize communication with \"bones\""
   ]
  },
  {
   "cell_type": "code",
   "execution_count": 1,
   "id": "canadian-round",
   "metadata": {},
   "outputs": [],
   "source": [
    "import sys\n",
    "sys.path.insert(0, '/opt/ros/noetic/lib/python3/dist-packages')\n",
    "import rospy\n",
    "rospy.init_node('motion_control')\n",
    "\n",
    "## create an instance of a robot\n",
    "from jetbot import Bones\n",
    "robot = Bones()\n",
    "robot.observe(robot.fwd_cb,'fwdspd')\n",
    "robot.observe(robot.ang_cb,'angspd')\n",
    "\n",
    "## create an auto recurring timer and associated callback which triggers ever 250ms. The purpose is to throttle the transfer of twist \n",
    "## commands to the arduino.  \n",
    "from jetbot import Mytimer\n",
    "\n",
    "def ard_callback():\n",
    "    robot.twist()\n",
    "\n",
    "ard_timer = Mytimer(0.25, ard_callback)\n",
    "ard_timer.start()"
   ]
  },
  {
   "cell_type": "markdown",
   "id": "recognized-cancellation",
   "metadata": {},
   "source": [
    "### Check that topics can be published and subscribed"
   ]
  },
  {
   "cell_type": "code",
   "execution_count": 2,
   "id": "suspended-pennsylvania",
   "metadata": {},
   "outputs": [],
   "source": [
    "import jupyros\n",
    "from nav_msgs.msg import Odometry\n",
    "\n",
    "odom_msg = Odometry()\n"
   ]
  },
  {
   "cell_type": "code",
   "execution_count": 3,
   "id": "sized-midwest",
   "metadata": {},
   "outputs": [
    {
     "data": {
      "application/vnd.jupyter.widget-view+json": {
       "model_id": "3663475fd9044e7889b7ab25ac1e82fb",
       "version_major": 2,
       "version_minor": 0
      },
      "text/plain": [
       "VBox(children=(HBox(children=(Button(description='Stop', style=ButtonStyle()),)), Output(layout=Layout(border=…"
      ]
     },
     "metadata": {},
     "output_type": "display_data"
    }
   ],
   "source": [
    "def odom_cb(msg):\n",
    "    odom_msg = msg\n",
    "    \n",
    "jupyros.subscribe('/odometry/filtered', Odometry, odom_cb)"
   ]
  },
  {
   "cell_type": "markdown",
   "id": "naked-theology",
   "metadata": {},
   "source": [
    "### Create widgets for controlling the motors"
   ]
  },
  {
   "cell_type": "code",
   "execution_count": 4,
   "id": "sharing-serbia",
   "metadata": {},
   "outputs": [
    {
     "data": {
      "application/vnd.jupyter.widget-view+json": {
       "model_id": "cc26e5f675bf4f4a844d26d369e5b92b",
       "version_major": 2,
       "version_minor": 0
      },
      "text/plain": [
       "HBox(children=(FloatSlider(value=0.0, description='left', max=0.2, min=-0.2, orientation='vertical', step=0.02…"
      ]
     },
     "metadata": {},
     "output_type": "display_data"
    }
   ],
   "source": [
    "import ipywidgets.widgets as widgets\n",
    "from IPython.display import display\n",
    "\n",
    "# create two sliders with range [-0.2, 0.2]\n",
    "left_slider = widgets.FloatSlider(description='left', min=-0.2, max=0.2, step=0.02, orientation='vertical')\n",
    "right_slider = widgets.FloatSlider(description='right', min=-0.4, max=0.4, step=0.02, orientation='vertical')\n",
    "\n",
    "# create a horizontal box container to place the sliders next to each other\n",
    "slider_container = widgets.HBox([left_slider, right_slider])\n",
    "\n",
    "# display the container in this cell's output\n",
    "display(slider_container)\n",
    "\n",
    "import traitlets\n",
    "left_link = traitlets.link((left_slider, 'value'), (robot, 'fwdspd'))\n",
    "right_link = traitlets.link((right_slider, 'value'), (robot, 'angspd'))"
   ]
  },
  {
   "cell_type": "markdown",
   "id": "falling-auckland",
   "metadata": {},
   "source": [
    "### Visualization is accomplished through rviz running on the MSI Laptop"
   ]
  },
  {
   "cell_type": "code",
   "execution_count": null,
   "id": "arctic-literacy",
   "metadata": {},
   "outputs": [],
   "source": []
  },
  {
   "cell_type": "code",
   "execution_count": null,
   "id": "composite-melissa",
   "metadata": {},
   "outputs": [],
   "source": []
  }
 ],
 "metadata": {
  "kernelspec": {
   "display_name": "Python 3",
   "language": "python",
   "name": "python3"
  },
  "language_info": {
   "codemirror_mode": {
    "name": "ipython",
    "version": 3
   },
   "file_extension": ".py",
   "mimetype": "text/x-python",
   "name": "python",
   "nbconvert_exporter": "python",
   "pygments_lexer": "ipython3",
   "version": "3.6.9"
  }
 },
 "nbformat": 4,
 "nbformat_minor": 5
}
