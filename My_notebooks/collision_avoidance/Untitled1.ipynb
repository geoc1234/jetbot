{
 "cells": [
  {
   "cell_type": "code",
   "execution_count": 1,
   "id": "brilliant-correlation",
   "metadata": {},
   "outputs": [],
   "source": [
    "import sys\n",
    "sys.path.insert(0, '/opt/ros/noetic/lib/python3/dist-packages')"
   ]
  },
  {
   "cell_type": "code",
   "execution_count": 5,
   "id": "spectacular-static",
   "metadata": {},
   "outputs": [],
   "source": [
    "v = ros3d.Viewer()\n",
    "rc = ros3d.ROSConnection()\n",
    "tf_client = ros3d.TFClient(ros=rc, fixed_frame='')\n",
    "\n",
    "\n",
    "path_view = ros3d.Path(ros=rc, tf_client=tf_client, topic=\"/test_optim_node/local_plan\")\n",
    "\n",
    "marker_view = ros3d.Marker(ros=rc, tf_client=tf_client, topic=\"/test_optim_node/teb_markers\")\n",
    "\n",
    "interactive_marker_view = ros3d.InteractiveMarker(ros=rc, tf_client=tf_client, topic=\"/marker_obstacles\")\n",
    "\n",
    "v.objects = [marker_view, interactive_marker_view, path_view]\n",
    "\n",
    "marker_view.length = 0.5\n",
    "\n",
    "v.layout.height = '500px'\n"
   ]
  },
  {
   "cell_type": "code",
   "execution_count": 4,
   "id": "divided-comparative",
   "metadata": {},
   "outputs": [
    {
     "data": {
      "application/vnd.jupyter.widget-view+json": {
       "model_id": "f34287112fec47fd8ec4924655b4f186",
       "version_major": 2,
       "version_minor": 0
      },
      "text/plain": [
       "Viewer(layout=Layout(height='500px'), objects=[Marker(ros=ROSConnection(), tf_client=TFClient(ros=ROSConnectio…"
      ]
     },
     "metadata": {},
     "output_type": "display_data"
    }
   ],
   "source": []
  },
  {
   "cell_type": "code",
   "execution_count": null,
   "id": "irish-address",
   "metadata": {},
   "outputs": [],
   "source": []
  }
 ],
 "metadata": {
  "kernelspec": {
   "display_name": "Python 3",
   "language": "python",
   "name": "python3"
  },
  "language_info": {
   "codemirror_mode": {
    "name": "ipython",
    "version": 3
   },
   "file_extension": ".py",
   "mimetype": "text/x-python",
   "name": "python",
   "nbconvert_exporter": "python",
   "pygments_lexer": "ipython3",
   "version": "3.6.9"
  }
 },
 "nbformat": 4,
 "nbformat_minor": 5
}
